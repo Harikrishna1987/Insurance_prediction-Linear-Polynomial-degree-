{
 "cells": [
  {
   "cell_type": "code",
   "execution_count": 1,
   "metadata": {},
   "outputs": [],
   "source": [
    "import pandas as pd\n",
    "import numpy as np\n",
    "import matplotlib.pyplot as plt\n",
    "import seaborn as sns"
   ]
  },
  {
   "cell_type": "code",
   "execution_count": 2,
   "metadata": {},
   "outputs": [],
   "source": [
    "premium = pd.read_csv(\"E:/May 14(recall)/insurance.csv\")"
   ]
  },
  {
   "cell_type": "code",
   "execution_count": 3,
   "metadata": {},
   "outputs": [
    {
     "data": {
      "text/html": [
       "<div>\n",
       "<style scoped>\n",
       "    .dataframe tbody tr th:only-of-type {\n",
       "        vertical-align: middle;\n",
       "    }\n",
       "\n",
       "    .dataframe tbody tr th {\n",
       "        vertical-align: top;\n",
       "    }\n",
       "\n",
       "    .dataframe thead th {\n",
       "        text-align: right;\n",
       "    }\n",
       "</style>\n",
       "<table border=\"1\" class=\"dataframe\">\n",
       "  <thead>\n",
       "    <tr style=\"text-align: right;\">\n",
       "      <th></th>\n",
       "      <th>age</th>\n",
       "      <th>sex</th>\n",
       "      <th>bmi</th>\n",
       "      <th>children</th>\n",
       "      <th>smoker</th>\n",
       "      <th>region</th>\n",
       "      <th>charges</th>\n",
       "    </tr>\n",
       "  </thead>\n",
       "  <tbody>\n",
       "    <tr>\n",
       "      <td>0</td>\n",
       "      <td>19</td>\n",
       "      <td>female</td>\n",
       "      <td>27.900</td>\n",
       "      <td>0</td>\n",
       "      <td>yes</td>\n",
       "      <td>southwest</td>\n",
       "      <td>16884.92400</td>\n",
       "    </tr>\n",
       "    <tr>\n",
       "      <td>1</td>\n",
       "      <td>18</td>\n",
       "      <td>male</td>\n",
       "      <td>33.770</td>\n",
       "      <td>1</td>\n",
       "      <td>no</td>\n",
       "      <td>southeast</td>\n",
       "      <td>1725.55230</td>\n",
       "    </tr>\n",
       "    <tr>\n",
       "      <td>2</td>\n",
       "      <td>28</td>\n",
       "      <td>male</td>\n",
       "      <td>33.000</td>\n",
       "      <td>3</td>\n",
       "      <td>no</td>\n",
       "      <td>southeast</td>\n",
       "      <td>4449.46200</td>\n",
       "    </tr>\n",
       "    <tr>\n",
       "      <td>3</td>\n",
       "      <td>33</td>\n",
       "      <td>male</td>\n",
       "      <td>22.705</td>\n",
       "      <td>0</td>\n",
       "      <td>no</td>\n",
       "      <td>northwest</td>\n",
       "      <td>21984.47061</td>\n",
       "    </tr>\n",
       "    <tr>\n",
       "      <td>4</td>\n",
       "      <td>32</td>\n",
       "      <td>male</td>\n",
       "      <td>28.880</td>\n",
       "      <td>0</td>\n",
       "      <td>no</td>\n",
       "      <td>northwest</td>\n",
       "      <td>3866.85520</td>\n",
       "    </tr>\n",
       "  </tbody>\n",
       "</table>\n",
       "</div>"
      ],
      "text/plain": [
       "   age     sex     bmi  children smoker     region      charges\n",
       "0   19  female  27.900         0    yes  southwest  16884.92400\n",
       "1   18    male  33.770         1     no  southeast   1725.55230\n",
       "2   28    male  33.000         3     no  southeast   4449.46200\n",
       "3   33    male  22.705         0     no  northwest  21984.47061\n",
       "4   32    male  28.880         0     no  northwest   3866.85520"
      ]
     },
     "execution_count": 3,
     "metadata": {},
     "output_type": "execute_result"
    }
   ],
   "source": [
    "premium.head()"
   ]
  },
  {
   "cell_type": "code",
   "execution_count": 4,
   "metadata": {},
   "outputs": [
    {
     "data": {
      "text/plain": [
       "age         0\n",
       "sex         0\n",
       "bmi         0\n",
       "children    0\n",
       "smoker      0\n",
       "region      0\n",
       "charges     0\n",
       "dtype: int64"
      ]
     },
     "execution_count": 4,
     "metadata": {},
     "output_type": "execute_result"
    }
   ],
   "source": [
    "premium.isnull().sum()"
   ]
  },
  {
   "cell_type": "code",
   "execution_count": 5,
   "metadata": {},
   "outputs": [
    {
     "data": {
      "text/plain": [
       "(1338, 7)"
      ]
     },
     "execution_count": 5,
     "metadata": {},
     "output_type": "execute_result"
    }
   ],
   "source": [
    "premium.shape"
   ]
  },
  {
   "cell_type": "code",
   "execution_count": 6,
   "metadata": {},
   "outputs": [
    {
     "data": {
      "text/plain": [
       "age         0\n",
       "sex         0\n",
       "bmi         0\n",
       "children    0\n",
       "smoker      0\n",
       "region      0\n",
       "charges     0\n",
       "dtype: int64"
      ]
     },
     "execution_count": 6,
     "metadata": {},
     "output_type": "execute_result"
    }
   ],
   "source": [
    "premium.isnull().sum()"
   ]
  },
  {
   "cell_type": "code",
   "execution_count": 7,
   "metadata": {},
   "outputs": [
    {
     "data": {
      "text/plain": [
       "male      676\n",
       "female    662\n",
       "Name: sex, dtype: int64"
      ]
     },
     "execution_count": 7,
     "metadata": {},
     "output_type": "execute_result"
    }
   ],
   "source": [
    "premium['sex'].value_counts()"
   ]
  },
  {
   "cell_type": "code",
   "execution_count": 8,
   "metadata": {},
   "outputs": [],
   "source": [
    "premium.drop('bmi', axis = 1, inplace = True)"
   ]
  },
  {
   "cell_type": "code",
   "execution_count": 9,
   "metadata": {},
   "outputs": [],
   "source": [
    "premium.drop('smoker', axis = 1, inplace = True)"
   ]
  },
  {
   "cell_type": "markdown",
   "metadata": {},
   "source": [
    "###### premium['sex'] = premium.sex.replace({'male':0, 'female':1})"
   ]
  },
  {
   "cell_type": "code",
   "execution_count": 10,
   "metadata": {},
   "outputs": [],
   "source": [
    "premium.drop('sex', axis = 1, inplace = True)"
   ]
  },
  {
   "cell_type": "markdown",
   "metadata": {},
   "source": [
    "###### premium['smoker'].value_counts()"
   ]
  },
  {
   "cell_type": "markdown",
   "metadata": {},
   "source": [
    "###### premium['smoker'] = premium.smoker.replace({'yes':0, 'no':1})"
   ]
  },
  {
   "cell_type": "markdown",
   "metadata": {},
   "source": [
    "###### premium['region'].value_counts()"
   ]
  },
  {
   "cell_type": "code",
   "execution_count": 11,
   "metadata": {},
   "outputs": [],
   "source": [
    "premium.drop('region', axis = 1, inplace = True)"
   ]
  },
  {
   "cell_type": "code",
   "execution_count": 12,
   "metadata": {},
   "outputs": [],
   "source": [
    "premium.drop('children', axis = 1, inplace = True)"
   ]
  },
  {
   "cell_type": "markdown",
   "metadata": {},
   "source": [
    "###### from sklearn.preprocessing import LabelEncoder, OneHotEncoder\n",
    "###### labelencoder = LabelEncoder()\n",
    "###### X[:, 5] = labelencoder.fit_transform(X[:, 5])"
   ]
  },
  {
   "cell_type": "markdown",
   "metadata": {},
   "source": [
    "###### onehotencoder = OneHotEncoder(categorical_features = [4])\n",
    "###### X = onehotencoder.fit_transform(X).toarray()"
   ]
  },
  {
   "cell_type": "code",
   "execution_count": 13,
   "metadata": {},
   "outputs": [
    {
     "data": {
      "text/plain": [
       "<matplotlib.axes._subplots.AxesSubplot at 0x1e7984beb48>"
      ]
     },
     "execution_count": 13,
     "metadata": {},
     "output_type": "execute_result"
    },
    {
     "data": {
      "image/png": "[encoded data removed]",
      "text/plain": [
       "<Figure size 864x576 with 2 Axes>"
      ]
     },
     "metadata": {
      "needs_background": "light"
     },
     "output_type": "display_data"
    }
   ],
   "source": [
    "corrmat = premium.corr()\n",
    "top_corr_features = corrmat.index\n",
    "plt.figure(figsize=(12,8))\n",
    "sns.heatmap(premium.corr(),cmap = 'cubehelix', annot=True)"
   ]
  },
  {
   "cell_type": "code",
   "execution_count": 14,
   "metadata": {},
   "outputs": [
    {
     "data": {
      "text/html": [
       "<div>\n",
       "<style scoped>\n",
       "    .dataframe tbody tr th:only-of-type {\n",
       "        vertical-align: middle;\n",
       "    }\n",
       "\n",
       "    .dataframe tbody tr th {\n",
       "        vertical-align: top;\n",
       "    }\n",
       "\n",
       "    .dataframe thead th {\n",
       "        text-align: right;\n",
       "    }\n",
       "</style>\n",
       "<table border=\"1\" class=\"dataframe\">\n",
       "  <thead>\n",
       "    <tr style=\"text-align: right;\">\n",
       "      <th></th>\n",
       "      <th>age</th>\n",
       "      <th>charges</th>\n",
       "    </tr>\n",
       "  </thead>\n",
       "  <tbody>\n",
       "    <tr>\n",
       "      <td>age</td>\n",
       "      <td>1.000000</td>\n",
       "      <td>0.299008</td>\n",
       "    </tr>\n",
       "    <tr>\n",
       "      <td>charges</td>\n",
       "      <td>0.299008</td>\n",
       "      <td>1.000000</td>\n",
       "    </tr>\n",
       "  </tbody>\n",
       "</table>\n",
       "</div>"
      ],
      "text/plain": [
       "              age   charges\n",
       "age      1.000000  0.299008\n",
       "charges  0.299008  1.000000"
      ]
     },
     "execution_count": 14,
     "metadata": {},
     "output_type": "execute_result"
    }
   ],
   "source": [
    "premium.corr()"
   ]
  },
  {
   "cell_type": "code",
   "execution_count": 15,
   "metadata": {},
   "outputs": [],
   "source": [
    "X = premium[['age']]\n",
    "Y = premium[['charges']]"
   ]
  },
  {
   "cell_type": "code",
   "execution_count": 16,
   "metadata": {},
   "outputs": [],
   "source": [
    "from sklearn.preprocessing import StandardScaler\n",
    "scale = StandardScaler()"
   ]
  },
  {
   "cell_type": "code",
   "execution_count": 17,
   "metadata": {},
   "outputs": [],
   "source": [
    "# premium['bmi'] = scale.fit_transform(premium[['bmi']])\n",
    "premium['charges'] = scale.fit_transform(premium[['charges']])"
   ]
  },
  {
   "cell_type": "code",
   "execution_count": 18,
   "metadata": {},
   "outputs": [
    {
     "data": {
      "text/html": [
       "<div>\n",
       "<style scoped>\n",
       "    .dataframe tbody tr th:only-of-type {\n",
       "        vertical-align: middle;\n",
       "    }\n",
       "\n",
       "    .dataframe tbody tr th {\n",
       "        vertical-align: top;\n",
       "    }\n",
       "\n",
       "    .dataframe thead th {\n",
       "        text-align: right;\n",
       "    }\n",
       "</style>\n",
       "<table border=\"1\" class=\"dataframe\">\n",
       "  <thead>\n",
       "    <tr style=\"text-align: right;\">\n",
       "      <th></th>\n",
       "      <th>age</th>\n",
       "      <th>charges</th>\n",
       "    </tr>\n",
       "  </thead>\n",
       "  <tbody>\n",
       "    <tr>\n",
       "      <td>0</td>\n",
       "      <td>19</td>\n",
       "      <td>0.298584</td>\n",
       "    </tr>\n",
       "    <tr>\n",
       "      <td>1</td>\n",
       "      <td>18</td>\n",
       "      <td>-0.953689</td>\n",
       "    </tr>\n",
       "    <tr>\n",
       "      <td>2</td>\n",
       "      <td>28</td>\n",
       "      <td>-0.728675</td>\n",
       "    </tr>\n",
       "    <tr>\n",
       "      <td>3</td>\n",
       "      <td>33</td>\n",
       "      <td>0.719843</td>\n",
       "    </tr>\n",
       "    <tr>\n",
       "      <td>4</td>\n",
       "      <td>32</td>\n",
       "      <td>-0.776802</td>\n",
       "    </tr>\n",
       "  </tbody>\n",
       "</table>\n",
       "</div>"
      ],
      "text/plain": [
       "   age   charges\n",
       "0   19  0.298584\n",
       "1   18 -0.953689\n",
       "2   28 -0.728675\n",
       "3   33  0.719843\n",
       "4   32 -0.776802"
      ]
     },
     "execution_count": 18,
     "metadata": {},
     "output_type": "execute_result"
    }
   ],
   "source": [
    "premium.head()"
   ]
  },
  {
   "cell_type": "code",
   "execution_count": 19,
   "metadata": {},
   "outputs": [],
   "source": [
    "#X = featureextr"
   ]
  },
  {
   "cell_type": "code",
   "execution_count": 20,
   "metadata": {},
   "outputs": [],
   "source": [
    "from sklearn.model_selection import train_test_split\n",
    "X_train, X_test, Y_train, Y_test = train_test_split(X, Y, test_size = 0.2, random_state = 42)"
   ]
  },
  {
   "cell_type": "markdown",
   "metadata": {},
   "source": [
    "from sklearn.decomposition import PCA \n",
    "  \n",
    "pca = PCA(n_components = 2) \n",
    "  \n",
    "X_train = pca.fit_transform(X_train) \n",
    "X_test = pca.transform(X_test) \n",
    "  \n",
    "explained_variance = pca.explained_variance_ratio_"
   ]
  },
  {
   "cell_type": "code",
   "execution_count": 21,
   "metadata": {},
   "outputs": [],
   "source": [
    "from sklearn.linear_model import LinearRegression\n",
    "model = LinearRegression()"
   ]
  },
  {
   "cell_type": "code",
   "execution_count": 22,
   "metadata": {},
   "outputs": [],
   "source": [
    "model = model.fit(X_train, Y_train)"
   ]
  },
  {
   "cell_type": "code",
   "execution_count": 23,
   "metadata": {},
   "outputs": [],
   "source": [
    "# xpred= my_model.predict(X_train)\n",
    "# ypred=my_model.predict(X_test)\n",
    "prediction = model.predict(X_test)"
   ]
  },
  {
   "cell_type": "code",
   "execution_count": 24,
   "metadata": {},
   "outputs": [
    {
     "data": {
      "text/plain": [
       "array([[14703.77387469],\n",
       "       [12538.40483659],\n",
       "       [19275.10851067],\n",
       "       [14944.37043448],\n",
       "       [ 8448.26332018],\n",
       "       [12057.21171701],\n",
       "       [ 8448.26332018],\n",
       "       [19275.10851067],\n",
       "       [10613.63235828],\n",
       "       [15666.16011384],\n",
       "       [11094.82547785],\n",
       "       [13741.38763553],\n",
       "       [10854.22891807],\n",
       "       [14944.37043448],\n",
       "       [18312.72227152],\n",
       "       [15184.96699426],\n",
       "       [15666.16011384],\n",
       "       [15184.96699426],\n",
       "       [14944.37043448],\n",
       "       [14222.58075511],\n",
       "       [ 9891.84267891],\n",
       "       [14222.58075511],\n",
       "       [ 8448.26332018],\n",
       "       [ 9170.05299954],\n",
       "       [15906.75667363],\n",
       "       [16869.14291279],\n",
       "       [18312.72227152],\n",
       "       [10373.03579849],\n",
       "       [15184.96699426],\n",
       "       [ 8207.66676039],\n",
       "       [13500.79107574],\n",
       "       [17590.93259215],\n",
       "       [ 8929.45643976],\n",
       "       [11094.82547785],\n",
       "       [10132.4392387 ],\n",
       "       [14703.77387469],\n",
       "       [ 8929.45643976],\n",
       "       [14222.58075511],\n",
       "       [16387.94979321],\n",
       "       [12538.40483659],\n",
       "       [ 8448.26332018],\n",
       "       [ 9170.05299954],\n",
       "       [17350.33603236],\n",
       "       [18072.12571173],\n",
       "       [11816.61515722],\n",
       "       [18072.12571173],\n",
       "       [ 8929.45643976],\n",
       "       [ 9891.84267891],\n",
       "       [14222.58075511],\n",
       "       [11335.42203764],\n",
       "       [19034.51195088],\n",
       "       [ 8207.66676039],\n",
       "       [13500.79107574],\n",
       "       [ 8207.66676039],\n",
       "       [17350.33603236],\n",
       "       [15906.75667363],\n",
       "       [11094.82547785],\n",
       "       [11335.42203764],\n",
       "       [17831.52915194],\n",
       "       [16628.546353  ],\n",
       "       [19034.51195088],\n",
       "       [11094.82547785],\n",
       "       [18553.31883131],\n",
       "       [13981.98419532],\n",
       "       [16387.94979321],\n",
       "       [10613.63235828],\n",
       "       [ 8929.45643976],\n",
       "       [16387.94979321],\n",
       "       [ 9891.84267891],\n",
       "       [ 9170.05299954],\n",
       "       [13019.59795617],\n",
       "       [14944.37043448],\n",
       "       [15425.56355405],\n",
       "       [13260.19451595],\n",
       "       [14463.1773149 ],\n",
       "       [12538.40483659],\n",
       "       [10373.03579849],\n",
       "       [17350.33603236],\n",
       "       [10613.63235828],\n",
       "       [14703.77387469],\n",
       "       [ 8688.85987997],\n",
       "       [18793.9153911 ],\n",
       "       [11576.01859743],\n",
       "       [ 9410.64955933],\n",
       "       [ 9170.05299954],\n",
       "       [15906.75667363],\n",
       "       [11094.82547785],\n",
       "       [17109.73947257],\n",
       "       [14222.58075511],\n",
       "       [16628.546353  ],\n",
       "       [18793.9153911 ],\n",
       "       [19275.10851067],\n",
       "       [15184.96699426],\n",
       "       [11335.42203764],\n",
       "       [11816.61515722],\n",
       "       [13741.38763553],\n",
       "       [11576.01859743],\n",
       "       [ 8688.85987997],\n",
       "       [11094.82547785],\n",
       "       [12297.8082768 ],\n",
       "       [11094.82547785],\n",
       "       [ 8448.26332018],\n",
       "       [13741.38763553],\n",
       "       [17350.33603236],\n",
       "       [18553.31883131],\n",
       "       [ 8207.66676039],\n",
       "       [14463.1773149 ],\n",
       "       [16628.546353  ],\n",
       "       [ 8207.66676039],\n",
       "       [16628.546353  ],\n",
       "       [ 8448.26332018],\n",
       "       [10132.4392387 ],\n",
       "       [17831.52915194],\n",
       "       [12057.21171701],\n",
       "       [15666.16011384],\n",
       "       [ 8688.85987997],\n",
       "       [18312.72227152],\n",
       "       [14222.58075511],\n",
       "       [12779.00139638],\n",
       "       [ 9410.64955933],\n",
       "       [12057.21171701],\n",
       "       [13741.38763553],\n",
       "       [16387.94979321],\n",
       "       [ 9651.24611912],\n",
       "       [10613.63235828],\n",
       "       [13741.38763553],\n",
       "       [14222.58075511],\n",
       "       [15666.16011384],\n",
       "       [18072.12571173],\n",
       "       [ 9410.64955933],\n",
       "       [11576.01859743],\n",
       "       [12297.8082768 ],\n",
       "       [12297.8082768 ],\n",
       "       [14703.77387469],\n",
       "       [13260.19451595],\n",
       "       [18072.12571173],\n",
       "       [11816.61515722],\n",
       "       [13981.98419532],\n",
       "       [14463.1773149 ],\n",
       "       [12779.00139638],\n",
       "       [12538.40483659],\n",
       "       [16147.35323342],\n",
       "       [10132.4392387 ],\n",
       "       [16387.94979321],\n",
       "       [ 9891.84267891],\n",
       "       [15666.16011384],\n",
       "       [11816.61515722],\n",
       "       [11335.42203764],\n",
       "       [16147.35323342],\n",
       "       [12297.8082768 ],\n",
       "       [16628.546353  ],\n",
       "       [ 9410.64955933],\n",
       "       [ 8207.66676039],\n",
       "       [11576.01859743],\n",
       "       [13019.59795617],\n",
       "       [12057.21171701],\n",
       "       [18793.9153911 ],\n",
       "       [15184.96699426],\n",
       "       [ 8448.26332018],\n",
       "       [13500.79107574],\n",
       "       [17831.52915194],\n",
       "       [ 8448.26332018],\n",
       "       [19275.10851067],\n",
       "       [ 9410.64955933],\n",
       "       [ 9410.64955933],\n",
       "       [13981.98419532],\n",
       "       [19034.51195088],\n",
       "       [17590.93259215],\n",
       "       [14463.1773149 ],\n",
       "       [ 9891.84267891],\n",
       "       [15666.16011384],\n",
       "       [13260.19451595],\n",
       "       [13260.19451595],\n",
       "       [11335.42203764],\n",
       "       [ 9170.05299954],\n",
       "       [15184.96699426],\n",
       "       [ 8448.26332018],\n",
       "       [19275.10851067],\n",
       "       [11576.01859743],\n",
       "       [17590.93259215],\n",
       "       [19034.51195088],\n",
       "       [ 8929.45643976],\n",
       "       [15184.96699426],\n",
       "       [12057.21171701],\n",
       "       [10854.22891807],\n",
       "       [ 9651.24611912],\n",
       "       [10854.22891807],\n",
       "       [11094.82547785],\n",
       "       [15184.96699426],\n",
       "       [17109.73947257],\n",
       "       [ 9410.64955933],\n",
       "       [ 8207.66676039],\n",
       "       [ 9170.05299954],\n",
       "       [11335.42203764],\n",
       "       [18793.9153911 ],\n",
       "       [16147.35323342],\n",
       "       [ 8448.26332018],\n",
       "       [16869.14291279],\n",
       "       [ 8207.66676039],\n",
       "       [15906.75667363],\n",
       "       [10132.4392387 ],\n",
       "       [16387.94979321],\n",
       "       [11094.82547785],\n",
       "       [ 8448.26332018],\n",
       "       [ 8688.85987997],\n",
       "       [10373.03579849],\n",
       "       [15906.75667363],\n",
       "       [ 9170.05299954],\n",
       "       [15425.56355405],\n",
       "       [ 9891.84267891],\n",
       "       [18793.9153911 ],\n",
       "       [17590.93259215],\n",
       "       [14944.37043448],\n",
       "       [10132.4392387 ],\n",
       "       [13500.79107574],\n",
       "       [11094.82547785],\n",
       "       [11816.61515722],\n",
       "       [18072.12571173],\n",
       "       [18312.72227152],\n",
       "       [12297.8082768 ],\n",
       "       [ 8929.45643976],\n",
       "       [14463.1773149 ],\n",
       "       [12779.00139638],\n",
       "       [14222.58075511],\n",
       "       [ 9170.05299954],\n",
       "       [10613.63235828],\n",
       "       [ 8448.26332018],\n",
       "       [ 8448.26332018],\n",
       "       [16147.35323342],\n",
       "       [15666.16011384],\n",
       "       [ 8929.45643976],\n",
       "       [16147.35323342],\n",
       "       [10854.22891807],\n",
       "       [14222.58075511],\n",
       "       [16387.94979321],\n",
       "       [15666.16011384],\n",
       "       [10132.4392387 ],\n",
       "       [13981.98419532],\n",
       "       [13981.98419532],\n",
       "       [ 9170.05299954],\n",
       "       [18312.72227152],\n",
       "       [10854.22891807],\n",
       "       [ 9891.84267891],\n",
       "       [10132.4392387 ],\n",
       "       [ 8448.26332018],\n",
       "       [10132.4392387 ],\n",
       "       [10613.63235828],\n",
       "       [11576.01859743],\n",
       "       [16387.94979321],\n",
       "       [ 8448.26332018],\n",
       "       [ 8688.85987997],\n",
       "       [13500.79107574],\n",
       "       [10613.63235828],\n",
       "       [17590.93259215],\n",
       "       [ 8448.26332018],\n",
       "       [ 9891.84267891],\n",
       "       [18312.72227152],\n",
       "       [10132.4392387 ],\n",
       "       [15666.16011384],\n",
       "       [11335.42203764],\n",
       "       [13500.79107574],\n",
       "       [18553.31883131],\n",
       "       [10373.03579849],\n",
       "       [19034.51195088],\n",
       "       [17831.52915194],\n",
       "       [13019.59795617],\n",
       "       [16869.14291279],\n",
       "       [16147.35323342]])"
      ]
     },
     "execution_count": 24,
     "metadata": {},
     "output_type": "execute_result"
    }
   ],
   "source": [
    "prediction"
   ]
  },
  {
   "cell_type": "code",
   "execution_count": 25,
   "metadata": {},
   "outputs": [
    {
     "data": {
      "text/html": [
       "<div>\n",
       "<style scoped>\n",
       "    .dataframe tbody tr th:only-of-type {\n",
       "        vertical-align: middle;\n",
       "    }\n",
       "\n",
       "    .dataframe tbody tr th {\n",
       "        vertical-align: top;\n",
       "    }\n",
       "\n",
       "    .dataframe thead th {\n",
       "        text-align: right;\n",
       "    }\n",
       "</style>\n",
       "<table border=\"1\" class=\"dataframe\">\n",
       "  <thead>\n",
       "    <tr style=\"text-align: right;\">\n",
       "      <th></th>\n",
       "      <th>charges</th>\n",
       "    </tr>\n",
       "  </thead>\n",
       "  <tbody>\n",
       "    <tr>\n",
       "      <td>764</td>\n",
       "      <td>9095.06825</td>\n",
       "    </tr>\n",
       "    <tr>\n",
       "      <td>887</td>\n",
       "      <td>5272.17580</td>\n",
       "    </tr>\n",
       "    <tr>\n",
       "      <td>890</td>\n",
       "      <td>29330.98315</td>\n",
       "    </tr>\n",
       "    <tr>\n",
       "      <td>1293</td>\n",
       "      <td>9301.89355</td>\n",
       "    </tr>\n",
       "    <tr>\n",
       "      <td>259</td>\n",
       "      <td>33750.29180</td>\n",
       "    </tr>\n",
       "    <tr>\n",
       "      <td>...</td>\n",
       "      <td>...</td>\n",
       "    </tr>\n",
       "    <tr>\n",
       "      <td>109</td>\n",
       "      <td>47055.53210</td>\n",
       "    </tr>\n",
       "    <tr>\n",
       "      <td>575</td>\n",
       "      <td>12222.89830</td>\n",
       "    </tr>\n",
       "    <tr>\n",
       "      <td>535</td>\n",
       "      <td>6067.12675</td>\n",
       "    </tr>\n",
       "    <tr>\n",
       "      <td>543</td>\n",
       "      <td>63770.42801</td>\n",
       "    </tr>\n",
       "    <tr>\n",
       "      <td>846</td>\n",
       "      <td>9872.70100</td>\n",
       "    </tr>\n",
       "  </tbody>\n",
       "</table>\n",
       "<p>268 rows × 1 columns</p>\n",
       "</div>"
      ],
      "text/plain": [
       "          charges\n",
       "764    9095.06825\n",
       "887    5272.17580\n",
       "890   29330.98315\n",
       "1293   9301.89355\n",
       "259   33750.29180\n",
       "...           ...\n",
       "109   47055.53210\n",
       "575   12222.89830\n",
       "535    6067.12675\n",
       "543   63770.42801\n",
       "846    9872.70100\n",
       "\n",
       "[268 rows x 1 columns]"
      ]
     },
     "execution_count": 25,
     "metadata": {},
     "output_type": "execute_result"
    }
   ],
   "source": [
    "Y_test"
   ]
  },
  {
   "cell_type": "code",
   "execution_count": 26,
   "metadata": {},
   "outputs": [
    {
     "data": {
      "image/png": "[encoded data removed]",
      "text/plain": [
       "<Figure size 432x288 with 1 Axes>"
      ]
     },
     "metadata": {
      "needs_background": "light"
     },
     "output_type": "display_data"
    }
   ],
   "source": [
    "plt.scatter(X_train, Y_train, color = 'red')\n",
    "plt.plot(X_train, model.predict(X_train), color = 'blue')\n",
    "plt.title('Age vs Insurance_Charges (Training set)')\n",
    "plt.xlabel('age')\n",
    "plt.ylabel('charges')\n",
    "plt.show()"
   ]
  },
  {
   "cell_type": "code",
   "execution_count": 27,
   "metadata": {},
   "outputs": [
    {
     "data": {
      "image/png": "[encoded data removed]",
      "text/plain": [
       "<Figure size 432x288 with 1 Axes>"
      ]
     },
     "metadata": {
      "needs_background": "light"
     },
     "output_type": "display_data"
    }
   ],
   "source": [
    "plt.scatter(X_test, Y_test, color = 'red')\n",
    "plt.plot(X_train, model.predict(X_train), color = 'blue')\n",
    "plt.title('Age vs Insurance_Charges (Testing set)')\n",
    "plt.xlabel('ages')\n",
    "plt.ylabel('charges')\n",
    "plt.show()"
   ]
  },
  {
   "cell_type": "code",
   "execution_count": 28,
   "metadata": {},
   "outputs": [
    {
     "data": {
      "text/plain": [
       "-68408.02978822467"
      ]
     },
     "execution_count": 28,
     "metadata": {},
     "output_type": "execute_result"
    }
   ],
   "source": [
    "model.score(prediction, Y_test)"
   ]
  },
  {
   "cell_type": "code",
   "execution_count": 29,
   "metadata": {},
   "outputs": [
    {
     "data": {
      "text/plain": [
       "array([[240.59655979]])"
      ]
     },
     "execution_count": 29,
     "metadata": {},
     "output_type": "execute_result"
    }
   ],
   "source": [
    "model.coef_"
   ]
  },
  {
   "cell_type": "code",
   "execution_count": 30,
   "metadata": {},
   "outputs": [
    {
     "data": {
      "text/plain": [
       "array([3876.92868419])"
      ]
     },
     "execution_count": 30,
     "metadata": {},
     "output_type": "execute_result"
    }
   ],
   "source": [
    "model.intercept_"
   ]
  },
  {
   "cell_type": "code",
   "execution_count": 31,
   "metadata": {},
   "outputs": [
    {
     "name": "stdout",
     "output_type": "stream",
     "text": [
      "Mean Absolute Error: 9173.258196746589\n",
      "Mean Squared Error: 135983957.4805469\n",
      "Root Mean Squared Error: 11661.21595205864\n"
     ]
    }
   ],
   "source": [
    "from sklearn import metrics\n",
    "print('Mean Absolute Error:', metrics.mean_absolute_error(Y_test, prediction))\n",
    "print('Mean Squared Error:', metrics.mean_squared_error(Y_test, prediction))\n",
    "print('Root Mean Squared Error:', np.sqrt(metrics.mean_squared_error(Y_test, prediction)))"
   ]
  },
  {
   "cell_type": "code",
   "execution_count": 32,
   "metadata": {},
   "outputs": [],
   "source": [
    "import statsmodels.formula.api as sm\n",
    "import statsmodels.regression.linear_model as sm"
   ]
  },
  {
   "cell_type": "code",
   "execution_count": 33,
   "metadata": {},
   "outputs": [
    {
     "data": {
      "text/html": [
       "<table class=\"simpletable\">\n",
       "<caption>OLS Regression Results</caption>\n",
       "<tr>\n",
       "  <th>Dep. Variable:</th>         <td>charges</td>     <th>  R-squared (uncentered):</th>      <td>   0.580</td>\n",
       "</tr>\n",
       "<tr>\n",
       "  <th>Model:</th>                   <td>OLS</td>       <th>  Adj. R-squared (uncentered):</th> <td>   0.578</td>\n",
       "</tr>\n",
       "<tr>\n",
       "  <th>Method:</th>             <td>Least Squares</td>  <th>  F-statistic:       </th>          <td>   368.1</td>\n",
       "</tr>\n",
       "<tr>\n",
       "  <th>Date:</th>             <td>Thu, 20 Aug 2020</td> <th>  Prob (F-statistic):</th>          <td>3.69e-52</td>\n",
       "</tr>\n",
       "<tr>\n",
       "  <th>Time:</th>                 <td>18:03:02</td>     <th>  Log-Likelihood:    </th>          <td> -2889.8</td>\n",
       "</tr>\n",
       "<tr>\n",
       "  <th>No. Observations:</th>      <td>   268</td>      <th>  AIC:               </th>          <td>   5782.</td>\n",
       "</tr>\n",
       "<tr>\n",
       "  <th>Df Residuals:</th>          <td>   267</td>      <th>  BIC:               </th>          <td>   5785.</td>\n",
       "</tr>\n",
       "<tr>\n",
       "  <th>Df Model:</th>              <td>     1</td>      <th>                     </th>              <td> </td>   \n",
       "</tr>\n",
       "<tr>\n",
       "  <th>Covariance Type:</th>      <td>nonrobust</td>    <th>                     </th>              <td> </td>   \n",
       "</tr>\n",
       "</table>\n",
       "<table class=\"simpletable\">\n",
       "<tr>\n",
       "   <td></td>     <th>coef</th>     <th>std err</th>      <th>t</th>      <th>P>|t|</th>  <th>[0.025</th>    <th>0.975]</th>  \n",
       "</tr>\n",
       "<tr>\n",
       "  <th>x1</th> <td>    1.0077</td> <td>    0.053</td> <td>   19.186</td> <td> 0.000</td> <td>    0.904</td> <td>    1.111</td>\n",
       "</tr>\n",
       "</table>\n",
       "<table class=\"simpletable\">\n",
       "<tr>\n",
       "  <th>Omnibus:</th>       <td>89.632</td> <th>  Durbin-Watson:     </th> <td>   1.855</td>\n",
       "</tr>\n",
       "<tr>\n",
       "  <th>Prob(Omnibus):</th> <td> 0.000</td> <th>  Jarque-Bera (JB):  </th> <td> 181.519</td>\n",
       "</tr>\n",
       "<tr>\n",
       "  <th>Skew:</th>          <td> 1.764</td> <th>  Prob(JB):          </th> <td>3.83e-40</td>\n",
       "</tr>\n",
       "<tr>\n",
       "  <th>Kurtosis:</th>      <td> 4.950</td> <th>  Cond. No.          </th> <td>    1.00</td>\n",
       "</tr>\n",
       "</table><br/><br/>Warnings:<br/>[1] Standard Errors assume that the covariance matrix of the errors is correctly specified."
      ],
      "text/plain": [
       "<class 'statsmodels.iolib.summary.Summary'>\n",
       "\"\"\"\n",
       "                                 OLS Regression Results                                \n",
       "=======================================================================================\n",
       "Dep. Variable:                charges   R-squared (uncentered):                   0.580\n",
       "Model:                            OLS   Adj. R-squared (uncentered):              0.578\n",
       "Method:                 Least Squares   F-statistic:                              368.1\n",
       "Date:                Thu, 20 Aug 2020   Prob (F-statistic):                    3.69e-52\n",
       "Time:                        18:03:02   Log-Likelihood:                         -2889.8\n",
       "No. Observations:                 268   AIC:                                      5782.\n",
       "Df Residuals:                     267   BIC:                                      5785.\n",
       "Df Model:                           1                                                  \n",
       "Covariance Type:            nonrobust                                                  \n",
       "==============================================================================\n",
       "                 coef    std err          t      P>|t|      [0.025      0.975]\n",
       "------------------------------------------------------------------------------\n",
       "x1             1.0077      0.053     19.186      0.000       0.904       1.111\n",
       "==============================================================================\n",
       "Omnibus:                       89.632   Durbin-Watson:                   1.855\n",
       "Prob(Omnibus):                  0.000   Jarque-Bera (JB):              181.519\n",
       "Skew:                           1.764   Prob(JB):                     3.83e-40\n",
       "Kurtosis:                       4.950   Cond. No.                         1.00\n",
       "==============================================================================\n",
       "\n",
       "Warnings:\n",
       "[1] Standard Errors assume that the covariance matrix of the errors is correctly specified.\n",
       "\"\"\""
      ]
     },
     "execution_count": 33,
     "metadata": {},
     "output_type": "execute_result"
    }
   ],
   "source": [
    "regressor_OLS = sm.OLS(endog = Y_test, exog = prediction).fit()\n",
    "regressor_OLS.summary()"
   ]
  },
  {
   "cell_type": "markdown",
   "metadata": {},
   "source": [
    "###### Reducing the error by using Polynomial Degree"
   ]
  },
  {
   "cell_type": "code",
   "execution_count": 34,
   "metadata": {},
   "outputs": [
    {
     "data": {
      "text/plain": [
       "LinearRegression(copy_X=True, fit_intercept=True, n_jobs=None, normalize=False)"
      ]
     },
     "execution_count": 34,
     "metadata": {},
     "output_type": "execute_result"
    }
   ],
   "source": [
    "from sklearn.preprocessing import PolynomialFeatures\n",
    "poly_reg = PolynomialFeatures(degree = 5)\n",
    "X_poly = poly_reg.fit_transform(X)\n",
    "poly_reg.fit(X_poly, Y)\n",
    "linearmodel2 = LinearRegression()\n",
    "linearmodel2.fit(X_poly, Y)"
   ]
  },
  {
   "cell_type": "code",
   "execution_count": 35,
   "metadata": {},
   "outputs": [
    {
     "data": {
      "image/png": "[encoded data removed]",
      "text/plain": [
       "<Figure size 432x288 with 1 Axes>"
      ]
     },
     "metadata": {
      "needs_background": "light"
     },
     "output_type": "display_data"
    }
   ],
   "source": [
    "plt.scatter(X_train, Y_train, color = 'black')\n",
    "plt.plot(X, model.predict(X), color = 'green')\n",
    "plt.title('Age Vs Charges (Polynomial Rgression)')\n",
    "plt.xlabel('Age')\n",
    "plt.ylabel('Charges')\n",
    "plt.show()"
   ]
  },
  {
   "cell_type": "code",
   "execution_count": 36,
   "metadata": {},
   "outputs": [
    {
     "data": {
      "image/png": "[encoded data removed]",
      "text/plain": [
       "<Figure size 432x288 with 1 Axes>"
      ]
     },
     "metadata": {
      "needs_background": "light"
     },
     "output_type": "display_data"
    }
   ],
   "source": [
    "plt.scatter(X_test, Y_test, color = 'black')\n",
    "plt.plot(X, linearmodel2.predict(poly_reg.fit_transform(X)), color = 'green')\n",
    "plt.title('Age or Charges (Polynomial Regression)')\n",
    "plt.xlabel('age')\n",
    "plt.ylabel('charges')\n",
    "plt.show()"
   ]
  },
  {
   "cell_type": "markdown",
   "metadata": {},
   "source": [
    "pred = model.predict(X_test)"
   ]
  },
  {
   "cell_type": "code",
   "execution_count": 37,
   "metadata": {},
   "outputs": [
    {
     "data": {
      "text/plain": [
       "array([[6282.89428208]])"
      ]
     },
     "execution_count": 37,
     "metadata": {},
     "output_type": "execute_result"
    }
   ],
   "source": [
    "model.predict([[10]])"
   ]
  },
  {
   "cell_type": "code",
   "execution_count": 38,
   "metadata": {},
   "outputs": [
    {
     "data": {
      "text/plain": [
       "array([[-7680.25059122]])"
      ]
     },
     "execution_count": 38,
     "metadata": {},
     "output_type": "execute_result"
    }
   ],
   "source": [
    "linearmodel2.predict(poly_reg.fit_transform([[10]]))"
   ]
  },
  {
   "cell_type": "markdown",
   "metadata": {},
   "source": [
    "###### from sklearn.metrics import mean_squared_error\n",
    "###### mse = mean_squared_error(Y_test, prediction)"
   ]
  },
  {
   "cell_type": "markdown",
   "metadata": {},
   "source": [
    "###### print('MSE:', mean_squared_error(Y_test, prediction))"
   ]
  },
  {
   "cell_type": "code",
   "execution_count": null,
   "metadata": {},
   "outputs": [],
   "source": []
  },
  {
   "cell_type": "markdown",
   "metadata": {},
   "source": [
    "###### Conclude: THis model is not prediction accurate output. Lower the RMSE better the model here the RMSE is high in this model."
   ]
  }
 ],
 "metadata": {
  "kernelspec": {
   "display_name": "Python 3",
   "language": "python",
   "name": "python3"
  },
  "language_info": {
   "codemirror_mode": {
    "name": "ipython",
    "version": 3
   },
   "file_extension": ".py",
   "mimetype": "text/x-python",
   "name": "python",
   "nbconvert_exporter": "python",
   "pygments_lexer": "ipython3",
   "version": "3.7.4"
  }
 },
 "nbformat": 4,
 "nbformat_minor": 2
}
